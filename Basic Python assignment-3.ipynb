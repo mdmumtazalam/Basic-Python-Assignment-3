{
 "cells": [
  {
   "cell_type": "markdown",
   "id": "a08051c5",
   "metadata": {},
   "source": [
    "1.Why are functions advantageous to have in your programs?\n",
    "\n",
    "Ans:- Functions reduce the need for duplicate code. This makes programs shorter, easier to read, and easier to update.\n",
    "\n",
    "2.When does the code in a function run: when it's specified or when it's called? Ans:- The code in a function executes when the function is called, not when the function is defined.\n",
    "\n",
    "3.What statement creates a function? The def statement defines (that is, creates) a function.\n",
    "\n",
    "4.What is the difference between a function and a function call? Ans:- Function --A function consists of the def statement and the code in its def clause. Function Call-A function call is what moves the program execution into the function, and the function call evaluates to the function's return value.\n",
    "\n",
    "5.How many global scopes are there in a Python program? How many local scopes? Ans:- There is one global scope, and a local scope is created whenever a function is called.\n",
    "\n",
    "6.What happens to variables in a local scope when the function call returns? Ans:- When a function returns, the local scope is destroyed, and all the variables in it are forgotten.\n",
    "\n",
    "7.What is the concept of a return value? Is it possible to have a return value in an expression? Ans:- A return value is the value that a function call evaluates to. Like any value, a return value can be used as part of an expression.\n",
    "\n",
    "8.If a function does not have a return statement, what is the return value of a call to that function? Ans:- If there is no return statement for a function, its return value is None.\n",
    "\n",
    "How do you make a function variable refer to the global variable? Ans:- A global statement will force a variable in a function to refer to the global variable.\n",
    "What is the data type of None? Ans:- The data type of None is NoneType.\n",
    "What does the sentence import areallyourpetsnamederic do? Ans:- hat import statement imports a module named areallyourpetsnamederic. (This isn't a real Python module, by the way.)\n",
    "12.If you had a bacon() feature in a spam module, what would you call it after importing spam?\n",
    "\n",
    "Ans:- This function can be called with spam.bacon(). 13.What can you do to save a programme from crashing if it encounters an error? Ans:- Place the line of code that might cause an error in a try clause.\n",
    "\n",
    "What is the purpose of the try clause? What is the purpose of the except clause? Ans:- The code that could potentially cause an error goes in the try clause.\n",
    "The code that executes if an error happens goes in the except clause."
   ]
  }
 ],
 "metadata": {
  "kernelspec": {
   "display_name": "Python 3 (ipykernel)",
   "language": "python",
   "name": "python3"
  },
  "language_info": {
   "codemirror_mode": {
    "name": "ipython",
    "version": 3
   },
   "file_extension": ".py",
   "mimetype": "text/x-python",
   "name": "python",
   "nbconvert_exporter": "python",
   "pygments_lexer": "ipython3",
   "version": "3.9.12"
  }
 },
 "nbformat": 4,
 "nbformat_minor": 5
}
